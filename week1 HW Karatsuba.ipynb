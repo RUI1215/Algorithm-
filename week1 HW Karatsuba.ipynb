{
 "cells": [
  {
   "cell_type": "code",
   "execution_count": 2,
   "metadata": {},
   "outputs": [],
   "source": [
    "x=3141592653589793238462643383279502884197169399375105820974944592\n",
    "y=2718281828459045235360287471352662497757247093699959574966967627"
   ]
  },
  {
   "cell_type": "code",
   "execution_count": 30,
   "metadata": {},
   "outputs": [],
   "source": [
    "def Karatsuba(num1,num2):\n",
    "    num1=str(num1)\n",
    "    num2=str(num2)\n",
    "    midpoint1=int(len(num1)/2)\n",
    "    midpoint2=int(len(num2)/2)\n",
    "    \n",
    "    a=int(num1[0:midpoint1+1])\n",
    "    b=int(num1[midpoint1+1::])\n",
    "    c=int(num2[0:midpoint2+1])\n",
    "    d=int(num2[midpoint2+1::])\n",
    "    \n",
    "    a_c=a*c\n",
    "    b_d=b*d\n",
    "    ab_cd=(a+b)*(c+d)\n",
    "    step4=ab_cd-b_d-a_c\n",
    "    product=a_c*10**len(num1)+b_d+step4*10**midpoint1\n",
    "    return product"
   ]
  },
  {
   "cell_type": "code",
   "execution_count": 31,
   "metadata": {},
   "outputs": [
    {
     "data": {
      "text/plain": [
       "853973422267356706546355086954656037673797266335236299721062373570612594229494818661484618533267229073013374895871952806582723184"
      ]
     },
     "execution_count": 31,
     "metadata": {},
     "output_type": "execute_result"
    }
   ],
   "source": [
    "Karatsuba(x,y)"
   ]
  },
  {
   "cell_type": "code",
   "execution_count": 15,
   "metadata": {},
   "outputs": [
    {
     "data": {
      "text/plain": [
       "32"
      ]
     },
     "execution_count": 15,
     "metadata": {},
     "output_type": "execute_result"
    }
   ],
   "source": [
    "midpoint1=int(len(num1)/2);midpoint1"
   ]
  },
  {
   "cell_type": "code",
   "execution_count": 16,
   "metadata": {},
   "outputs": [
    {
     "data": {
      "text/plain": [
       "314159265358979323846264338327950"
      ]
     },
     "execution_count": 16,
     "metadata": {},
     "output_type": "execute_result"
    }
   ],
   "source": [
    "a=int(num1[0:midpoint1+1]);a"
   ]
  },
  {
   "cell_type": "code",
   "execution_count": null,
   "metadata": {},
   "outputs": [],
   "source": []
  }
 ],
 "metadata": {
  "kernelspec": {
   "display_name": "Python 3",
   "language": "python",
   "name": "python3"
  },
  "language_info": {
   "codemirror_mode": {
    "name": "ipython",
    "version": 3
   },
   "file_extension": ".py",
   "mimetype": "text/x-python",
   "name": "python",
   "nbconvert_exporter": "python",
   "pygments_lexer": "ipython3",
   "version": "3.6.4"
  }
 },
 "nbformat": 4,
 "nbformat_minor": 2
}
